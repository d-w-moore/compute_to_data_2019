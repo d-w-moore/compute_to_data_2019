{
 "cells": [
  {
   "cell_type": "code",
   "execution_count": null,
   "metadata": {},
   "outputs": [],
   "source": [
    "%matplotlib inline\n",
    "import os\n",
    "freqs = [ 0.125, 0.2, 0.3625 ]\n",
    "cutoff_freq = freqs[int(os.environ.get('CUTOFF_FREQUENCY_INDEX','0'))]\n",
    "input_file = os.environ.get('INPUT_FILE')\n",
    "output_dir = os.environ.get('OUTPUT_DIRECTORY')\n",
    "from matplotlib import pyplot as plt\n",
    "import numpy as np\n",
    "x = np.linspace(-64,64,129)\n"
   ]
  },
  {
   "cell_type": "code",
   "execution_count": null,
   "metadata": {
    "scrolled": true
   },
   "outputs": [],
   "source": [
    "coef=np.sinc(x*cutoff_freq)*np.hamming(129)\n",
    "coef/=np.sum(coef)\n",
    "\n",
    "plt.plot(coef)\n"
   ]
  },
  {
   "cell_type": "code",
   "execution_count": null,
   "metadata": {},
   "outputs": [],
   "source": [
    "plt.semilogy(np.abs(np.fft.fft(coef[:128]))[:64])\n",
    "\n",
    "input = None\n",
    "\n",
    "if not input_file:\n",
    "    input_file=\"autogen.dat\"\n",
    "else:\n",
    "    input = np.loadtxt(input_file)\n",
    "\n",
    "if not(input) : \n",
    "    input = np.ndarray(512)\n",
    "    input[:] = list(map(lambda i:i%12,range(512)))\n",
    "if len( input ) == 0:\n",
    "    input = np.zeros(512); input[128]=1 # test impulse / alignment\n",
    "winput= input[:128]/max(input[:128])*np.hamming(128)\n",
    "plt.semilogy(np.abs(np.fft.fft(winput[:128]))[:64])\n"
   ]
  },
  {
   "cell_type": "code",
   "execution_count": null,
   "metadata": {},
   "outputs": [],
   "source": [
    "\n",
    "output = np.convolve (input, coef)\n",
    "plt.plot(input[128-64:512-256-64])\n",
    "plt.plot(output[128:512-256])\n"
   ]
  },
  {
   "cell_type": "code",
   "execution_count": null,
   "metadata": {},
   "outputs": [],
   "source": [
    "if \n",
    "np.savetxt('/tmp/output_dir' if not ,\n",
    "                output)"
   ]
  }
 ],
 "metadata": {
  "kernelspec": {
   "display_name": "Python 3",
   "language": "python",
   "name": "python3"
  },
  "language_info": {
   "codemirror_mode": {
    "name": "ipython",
    "version": 3
   },
   "file_extension": ".py",
   "mimetype": "text/x-python",
   "name": "python",
   "nbconvert_exporter": "python",
   "pygments_lexer": "ipython3",
   "version": "3.7.3"
  }
 },
 "nbformat": 4,
 "nbformat_minor": 2
}
